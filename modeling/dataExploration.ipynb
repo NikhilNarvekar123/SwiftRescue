{
 "metadata": {
  "language_info": {
   "codemirror_mode": {
    "name": "ipython",
    "version": 3
   },
   "file_extension": ".py",
   "mimetype": "text/x-python",
   "name": "python",
   "nbconvert_exporter": "python",
   "pygments_lexer": "ipython3",
   "version": "3.8.5"
  },
  "orig_nbformat": 2,
  "kernelspec": {
   "name": "python385jvsc74a57bd09fc3f1988ad825662799a46103942a67a99b1357398c7557b0b1ce6b28e89e64",
   "display_name": "Python 3.8.5 64-bit ('base': conda)"
  }
 },
 "nbformat": 4,
 "nbformat_minor": 2,
 "cells": [
  {
   "cell_type": "code",
   "execution_count": 2,
   "metadata": {},
   "outputs": [
    {
     "output_type": "stream",
     "name": "stderr",
     "text": [
      "100%|██████████| 210/210 [00:20<00:00, 10.13it/s]\n",
      "Index(['YEARMONTH', 'EPISODE_ID', 'EVENT_ID', 'LOCATION_INDEX', 'RANGE',\n",
      "       'AZIMUTH', 'LOCATION', 'LATITUDE', 'LONGITUDE', 'LAT2', 'LON2'],\n",
      "      dtype='object')\n",
      "Index(['FAT_YEARMONTH', 'FAT_DAY', 'FAT_TIME', 'FATALITY_ID', 'EVENT_ID',\n",
      "       'FATALITY_TYPE', 'FATALITY_DATE', 'FATALITY_AGE', 'FATALITY_SEX',\n",
      "       'FATALITY_LOCATION', 'EVENT_YEARMONTH'],\n",
      "      dtype='object')\n",
      "Index(['BEGIN_YEARMONTH', 'BEGIN_DAY', 'BEGIN_TIME', 'END_YEARMONTH',\n",
      "       'END_DAY', 'END_TIME', 'EPISODE_ID', 'EVENT_ID', 'STATE', 'STATE_FIPS',\n",
      "       'YEAR', 'MONTH_NAME', 'EVENT_TYPE', 'CZ_TYPE', 'CZ_FIPS', 'CZ_NAME',\n",
      "       'WFO', 'BEGIN_DATE_TIME', 'CZ_TIMEZONE', 'END_DATE_TIME',\n",
      "       'INJURIES_DIRECT', 'INJURIES_INDIRECT', 'DEATHS_DIRECT',\n",
      "       'DEATHS_INDIRECT', 'DAMAGE_PROPERTY', 'DAMAGE_CROPS', 'SOURCE',\n",
      "       'MAGNITUDE', 'MAGNITUDE_TYPE', 'FLOOD_CAUSE', 'CATEGORY', 'TOR_F_SCALE',\n",
      "       'TOR_LENGTH', 'TOR_WIDTH', 'TOR_OTHER_WFO', 'TOR_OTHER_CZ_STATE',\n",
      "       'TOR_OTHER_CZ_FIPS', 'TOR_OTHER_CZ_NAME', 'BEGIN_RANGE',\n",
      "       'BEGIN_AZIMUTH', 'BEGIN_LOCATION', 'END_RANGE', 'END_AZIMUTH',\n",
      "       'END_LOCATION', 'BEGIN_LAT', 'BEGIN_LON', 'END_LAT', 'END_LON',\n",
      "       'EPISODE_NARRATIVE', 'EVENT_NARRATIVE', 'DATA_SOURCE'],\n",
      "      dtype='object')\n"
     ]
    }
   ],
   "source": [
    "import pandas as pd\n",
    "import os\n",
    "from tqdm import tqdm\n",
    "import numpy as np\n",
    "\n",
    "locdfs = {}\n",
    "fatdfs = {}\n",
    "detdfs = {}\n",
    "\n",
    "floodcsv = [os.path.join(\"data\", i) for i in os.listdir(\"data\") if \"StormEvents\" in i]\n",
    "\n",
    "for csvname in tqdm(floodcsv):\n",
    "    # print(csvname)\n",
    "    year = csvname.split(\"_\")[3][1:]\n",
    "    if \"details\" in csvname:\n",
    "        detdfs[year] = pd.read_csv(csvname, low_memory=False)\n",
    "    elif \"fatalities\" in csvname:\n",
    "        fatdfs[year] = pd.read_csv(csvname, low_memory=False)\n",
    "    elif \"location\" in csvname:\n",
    "        locdfs[year] = pd.read_csv(csvname, low_memory=False)\n",
    "\n",
    "locationdf = pd.concat(locdfs)\n",
    "fatalitydf = pd.concat(fatdfs)\n",
    "detdf = pd.concat(detdfs)\n",
    "\n",
    "print(locationdf.columns)\n",
    "print(fatalitydf.columns)\n",
    "print(detdf.columns)\n"
   ]
  },
  {
   "cell_type": "code",
   "execution_count": 32,
   "metadata": {},
   "outputs": [
    {
     "output_type": "execute_result",
     "data": {
      "text/plain": [
       "BEGIN_YEARMONTH                                                  200912\n",
       "BEGIN_DAY                                                             9\n",
       "BEGIN_TIME                                                          400\n",
       "END_YEARMONTH                                                    200912\n",
       "END_DAY                                                               9\n",
       "END_TIME                                                           1400\n",
       "EPISODE_ID                                                        35732\n",
       "EVENT_ID                                                         206802\n",
       "STATE                                                     NEW HAMPSHIRE\n",
       "STATE_FIPS                                                           33\n",
       "YEAR                                                               2009\n",
       "MONTH_NAME                                                     December\n",
       "EVENT_TYPE                                                   Heavy Snow\n",
       "CZ_TYPE                                                               Z\n",
       "CZ_FIPS                                                              12\n",
       "CZ_NAME                                            EASTERN HILLSBOROUGH\n",
       "WFO                                                                 BOX\n",
       "BEGIN_DATE_TIME                                      09-DEC-09 04:00:00\n",
       "CZ_TIMEZONE                                                       EST-5\n",
       "END_DATE_TIME                                        09-DEC-09 14:00:00\n",
       "INJURIES_DIRECT                                                       0\n",
       "INJURIES_INDIRECT                                                     0\n",
       "DEATHS_DIRECT                                                         0\n",
       "DEATHS_INDIRECT                                                       0\n",
       "DAMAGE_PROPERTY                                                   5.00K\n",
       "DAMAGE_CROPS                                                      0.00K\n",
       "SOURCE                                                    Amateur Radio\n",
       "MAGNITUDE                                                           NaN\n",
       "MAGNITUDE_TYPE                                                      NaN\n",
       "FLOOD_CAUSE                                                         NaN\n",
       "CATEGORY                                                            NaN\n",
       "TOR_F_SCALE                                                         NaN\n",
       "TOR_LENGTH                                                          NaN\n",
       "TOR_WIDTH                                                           NaN\n",
       "TOR_OTHER_WFO                                                       NaN\n",
       "TOR_OTHER_CZ_STATE                                                  NaN\n",
       "TOR_OTHER_CZ_FIPS                                                   NaN\n",
       "TOR_OTHER_CZ_NAME                                                   NaN\n",
       "BEGIN_RANGE                                                         NaN\n",
       "BEGIN_AZIMUTH                                                       NaN\n",
       "BEGIN_LOCATION                                                      NaN\n",
       "END_RANGE                                                           NaN\n",
       "END_AZIMUTH                                                         NaN\n",
       "END_LOCATION                                                        NaN\n",
       "BEGIN_LAT                                                           NaN\n",
       "BEGIN_LON                                                           NaN\n",
       "END_LAT                                                             NaN\n",
       "END_LON                                                             NaN\n",
       "EPISODE_NARRATIVE     Strong low pressure moved over the Cape Cod Ca...\n",
       "EVENT_NARRATIVE       A tree was downed in Pelham by heavy snow and ...\n",
       "DATA_SOURCE                                                         CSV\n",
       "Name: (2009, 0), dtype: object"
      ]
     },
     "metadata": {},
     "execution_count": 32
    }
   ],
   "source": [
    "detdf.iloc[0]"
   ]
  },
  {
   "cell_type": "code",
   "execution_count": 90,
   "metadata": {},
   "outputs": [
    {
     "output_type": "stream",
     "name": "stdout",
     "text": [
      "90487\n"
     ]
    },
    {
     "output_type": "execute_result",
     "data": {
      "text/plain": [
       "         BEGIN_YEARMONTH  BEGIN_DAY  BEGIN_TIME  END_YEARMONTH  END_DAY  \\\n",
       "2009 89           200912         25        1115         200912       25   \n",
       "     90           200912         25        1200         200912       25   \n",
       "     91           200912         25        1200         200912       25   \n",
       "     92           200912         25        1300         200912       25   \n",
       "     93           200912         25        1300         200912       25   \n",
       "\n",
       "         END_TIME  EVENT_ID   EVENT_TYPE DAMAGE_PROPERTY DAMAGE_CROPS  \\\n",
       "2009 89      1245    200363  Flash Flood           4.00K        0.00K   \n",
       "     90      1245    200364  Flash Flood           8.00K        0.00K   \n",
       "     91      1245    200366  Flash Flood           8.00K        0.00K   \n",
       "     92      1415    200369  Flash Flood          10.00K        0.00K   \n",
       "     93      1415    200370  Flash Flood          10.00K        0.00K   \n",
       "\n",
       "         INJURIES_DIRECT  INJURIES_INDIRECT  BEGIN_LAT  BEGIN_LON  END_LAT  \\\n",
       "2009 89                0                  0     34.000   -81.0200  33.9952   \n",
       "     90                0                  0     34.080   -81.1800  33.9576   \n",
       "     91                0                  0     34.095   -80.9706  34.0865   \n",
       "     92                0                  0     34.720   -80.7700  34.2845   \n",
       "     93                0                  0     34.720   -80.7700  34.2845   \n",
       "\n",
       "         END_LON  \n",
       "2009 89 -81.0422  \n",
       "     90 -81.1299  \n",
       "     91 -81.1845  \n",
       "     92 -81.2164  \n",
       "     93 -81.2164  "
      ],
      "text/html": "<div>\n<style scoped>\n    .dataframe tbody tr th:only-of-type {\n        vertical-align: middle;\n    }\n\n    .dataframe tbody tr th {\n        vertical-align: top;\n    }\n\n    .dataframe thead th {\n        text-align: right;\n    }\n</style>\n<table border=\"1\" class=\"dataframe\">\n  <thead>\n    <tr style=\"text-align: right;\">\n      <th></th>\n      <th></th>\n      <th>BEGIN_YEARMONTH</th>\n      <th>BEGIN_DAY</th>\n      <th>BEGIN_TIME</th>\n      <th>END_YEARMONTH</th>\n      <th>END_DAY</th>\n      <th>END_TIME</th>\n      <th>EVENT_ID</th>\n      <th>EVENT_TYPE</th>\n      <th>DAMAGE_PROPERTY</th>\n      <th>DAMAGE_CROPS</th>\n      <th>INJURIES_DIRECT</th>\n      <th>INJURIES_INDIRECT</th>\n      <th>BEGIN_LAT</th>\n      <th>BEGIN_LON</th>\n      <th>END_LAT</th>\n      <th>END_LON</th>\n    </tr>\n  </thead>\n  <tbody>\n    <tr>\n      <th rowspan=\"5\" valign=\"top\">2009</th>\n      <th>89</th>\n      <td>200912</td>\n      <td>25</td>\n      <td>1115</td>\n      <td>200912</td>\n      <td>25</td>\n      <td>1245</td>\n      <td>200363</td>\n      <td>Flash Flood</td>\n      <td>4.00K</td>\n      <td>0.00K</td>\n      <td>0</td>\n      <td>0</td>\n      <td>34.000</td>\n      <td>-81.0200</td>\n      <td>33.9952</td>\n      <td>-81.0422</td>\n    </tr>\n    <tr>\n      <th>90</th>\n      <td>200912</td>\n      <td>25</td>\n      <td>1200</td>\n      <td>200912</td>\n      <td>25</td>\n      <td>1245</td>\n      <td>200364</td>\n      <td>Flash Flood</td>\n      <td>8.00K</td>\n      <td>0.00K</td>\n      <td>0</td>\n      <td>0</td>\n      <td>34.080</td>\n      <td>-81.1800</td>\n      <td>33.9576</td>\n      <td>-81.1299</td>\n    </tr>\n    <tr>\n      <th>91</th>\n      <td>200912</td>\n      <td>25</td>\n      <td>1200</td>\n      <td>200912</td>\n      <td>25</td>\n      <td>1245</td>\n      <td>200366</td>\n      <td>Flash Flood</td>\n      <td>8.00K</td>\n      <td>0.00K</td>\n      <td>0</td>\n      <td>0</td>\n      <td>34.095</td>\n      <td>-80.9706</td>\n      <td>34.0865</td>\n      <td>-81.1845</td>\n    </tr>\n    <tr>\n      <th>92</th>\n      <td>200912</td>\n      <td>25</td>\n      <td>1300</td>\n      <td>200912</td>\n      <td>25</td>\n      <td>1415</td>\n      <td>200369</td>\n      <td>Flash Flood</td>\n      <td>10.00K</td>\n      <td>0.00K</td>\n      <td>0</td>\n      <td>0</td>\n      <td>34.720</td>\n      <td>-80.7700</td>\n      <td>34.2845</td>\n      <td>-81.2164</td>\n    </tr>\n    <tr>\n      <th>93</th>\n      <td>200912</td>\n      <td>25</td>\n      <td>1300</td>\n      <td>200912</td>\n      <td>25</td>\n      <td>1415</td>\n      <td>200370</td>\n      <td>Flash Flood</td>\n      <td>10.00K</td>\n      <td>0.00K</td>\n      <td>0</td>\n      <td>0</td>\n      <td>34.720</td>\n      <td>-80.7700</td>\n      <td>34.2845</td>\n      <td>-81.2164</td>\n    </tr>\n  </tbody>\n</table>\n</div>"
     },
     "metadata": {},
     "execution_count": 90
    }
   ],
   "source": [
    "detdf = detdf[(detdf['EVENT_TYPE']==\"Flash Flood\") | (detdf['EVENT_TYPE']==\"Flood\")]\n",
    "\n",
    "detdf = detdf[['BEGIN_YEARMONTH', 'BEGIN_DAY', 'BEGIN_TIME', 'END_YEARMONTH',\n",
    "       'END_DAY', 'END_TIME', 'EVENT_ID', \"EVENT_TYPE\", \"DAMAGE_PROPERTY\", \"DAMAGE_CROPS\", \"DEATHS_DIRECT\", \"DEATHS_INDIRECT\", \"INJURIES_DIRECT\", \"INJURIES_INDIRECT\", \"BEGIN_LAT\", \"BEGIN_LON\", \"END_LAT\", \"END_LON\"]]\n",
    "\n",
    "detdf.dropna(inplace=True)\n",
    "\n",
    "print(len(detdf))\n",
    "detdf.head()\n"
   ]
  },
  {
   "cell_type": "code",
   "execution_count": null,
   "metadata": {},
   "outputs": [],
   "source": []
  }
 ]
}