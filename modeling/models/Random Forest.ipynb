{
 "cells": [
  {
   "cell_type": "code",
   "execution_count": 23,
   "metadata": {},
   "outputs": [],
   "source": [
    "import pandas as pd\n",
    "import sklearn"
   ]
  },
  {
   "cell_type": "code",
   "execution_count": 24,
   "metadata": {},
   "outputs": [],
   "source": [
    "df = pd.read_csv(\"../data/dataset.csv\")"
   ]
  },
  {
   "cell_type": "code",
   "execution_count": 25,
   "metadata": {},
   "outputs": [
    {
     "data": {
      "text/html": [
       "<div>\n",
       "<style scoped>\n",
       "    .dataframe tbody tr th:only-of-type {\n",
       "        vertical-align: middle;\n",
       "    }\n",
       "\n",
       "    .dataframe tbody tr th {\n",
       "        vertical-align: top;\n",
       "    }\n",
       "\n",
       "    .dataframe thead th {\n",
       "        text-align: right;\n",
       "    }\n",
       "</style>\n",
       "<table border=\"1\" class=\"dataframe\">\n",
       "  <thead>\n",
       "    <tr style=\"text-align: right;\">\n",
       "      <th></th>\n",
       "      <th>Unnamed: 0</th>\n",
       "      <th>Unnamed: 0.1</th>\n",
       "      <th>Unnamed: 0.1.1</th>\n",
       "      <th>EVENT_ID</th>\n",
       "      <th>osm</th>\n",
       "      <th>forest</th>\n",
       "      <th>forest_year</th>\n",
       "      <th>BEGIN_LAT</th>\n",
       "      <th>BEGIN_LON</th>\n",
       "      <th>BEGIN_DATE</th>\n",
       "      <th>precip2</th>\n",
       "      <th>precip1</th>\n",
       "      <th>LABEL</th>\n",
       "      <th>DAMS</th>\n",
       "    </tr>\n",
       "  </thead>\n",
       "  <tbody>\n",
       "    <tr>\n",
       "      <th>0</th>\n",
       "      <td>0.0</td>\n",
       "      <td>0.0</td>\n",
       "      <td>0.0</td>\n",
       "      <td>200363.0</td>\n",
       "      <td>1634</td>\n",
       "      <td>0</td>\n",
       "      <td>8.0</td>\n",
       "      <td>34.0000</td>\n",
       "      <td>-81.0200</td>\n",
       "      <td>12/2009/25</td>\n",
       "      <td>1.1</td>\n",
       "      <td>42.3</td>\n",
       "      <td>1</td>\n",
       "      <td>19.272862</td>\n",
       "    </tr>\n",
       "    <tr>\n",
       "      <th>1</th>\n",
       "      <td>1.0</td>\n",
       "      <td>1.0</td>\n",
       "      <td>1.0</td>\n",
       "      <td>200364.0</td>\n",
       "      <td>629</td>\n",
       "      <td>0</td>\n",
       "      <td>8.0</td>\n",
       "      <td>34.0800</td>\n",
       "      <td>-81.1800</td>\n",
       "      <td>12/2009/25</td>\n",
       "      <td>1.1</td>\n",
       "      <td>39.3</td>\n",
       "      <td>1</td>\n",
       "      <td>4.803233</td>\n",
       "    </tr>\n",
       "    <tr>\n",
       "      <th>2</th>\n",
       "      <td>2.0</td>\n",
       "      <td>2.0</td>\n",
       "      <td>2.0</td>\n",
       "      <td>200366.0</td>\n",
       "      <td>45</td>\n",
       "      <td>0</td>\n",
       "      <td>8.0</td>\n",
       "      <td>34.0950</td>\n",
       "      <td>-80.9706</td>\n",
       "      <td>12/2009/25</td>\n",
       "      <td>1.1</td>\n",
       "      <td>42.3</td>\n",
       "      <td>1</td>\n",
       "      <td>23.426476</td>\n",
       "    </tr>\n",
       "    <tr>\n",
       "      <th>3</th>\n",
       "      <td>3.0</td>\n",
       "      <td>3.0</td>\n",
       "      <td>3.0</td>\n",
       "      <td>200369.0</td>\n",
       "      <td>13</td>\n",
       "      <td>0</td>\n",
       "      <td>8.0</td>\n",
       "      <td>34.7200</td>\n",
       "      <td>-80.7700</td>\n",
       "      <td>12/2009/25</td>\n",
       "      <td>0.5</td>\n",
       "      <td>23.3</td>\n",
       "      <td>1</td>\n",
       "      <td>17.060388</td>\n",
       "    </tr>\n",
       "    <tr>\n",
       "      <th>4</th>\n",
       "      <td>4.0</td>\n",
       "      <td>4.0</td>\n",
       "      <td>4.0</td>\n",
       "      <td>200370.0</td>\n",
       "      <td>13</td>\n",
       "      <td>0</td>\n",
       "      <td>8.0</td>\n",
       "      <td>34.7200</td>\n",
       "      <td>-80.7700</td>\n",
       "      <td>12/2009/25</td>\n",
       "      <td>0.5</td>\n",
       "      <td>23.3</td>\n",
       "      <td>1</td>\n",
       "      <td>17.060388</td>\n",
       "    </tr>\n",
       "    <tr>\n",
       "      <th>...</th>\n",
       "      <td>...</td>\n",
       "      <td>...</td>\n",
       "      <td>...</td>\n",
       "      <td>...</td>\n",
       "      <td>...</td>\n",
       "      <td>...</td>\n",
       "      <td>...</td>\n",
       "      <td>...</td>\n",
       "      <td>...</td>\n",
       "      <td>...</td>\n",
       "      <td>...</td>\n",
       "      <td>...</td>\n",
       "      <td>...</td>\n",
       "      <td>...</td>\n",
       "    </tr>\n",
       "    <tr>\n",
       "      <th>9994</th>\n",
       "      <td>NaN</td>\n",
       "      <td>NaN</td>\n",
       "      <td>NaN</td>\n",
       "      <td>NaN</td>\n",
       "      <td>130</td>\n",
       "      <td>0</td>\n",
       "      <td>NaN</td>\n",
       "      <td>52.7525</td>\n",
       "      <td>-174.4397</td>\n",
       "      <td>NaN</td>\n",
       "      <td>0.2</td>\n",
       "      <td>0.0</td>\n",
       "      <td>0</td>\n",
       "      <td>1456.203340</td>\n",
       "    </tr>\n",
       "    <tr>\n",
       "      <th>9995</th>\n",
       "      <td>NaN</td>\n",
       "      <td>NaN</td>\n",
       "      <td>NaN</td>\n",
       "      <td>NaN</td>\n",
       "      <td>130</td>\n",
       "      <td>1</td>\n",
       "      <td>NaN</td>\n",
       "      <td>7.4903</td>\n",
       "      <td>36.5478</td>\n",
       "      <td>NaN</td>\n",
       "      <td>1.3</td>\n",
       "      <td>0.1</td>\n",
       "      <td>0</td>\n",
       "      <td>229.759830</td>\n",
       "    </tr>\n",
       "    <tr>\n",
       "      <th>9996</th>\n",
       "      <td>NaN</td>\n",
       "      <td>NaN</td>\n",
       "      <td>NaN</td>\n",
       "      <td>NaN</td>\n",
       "      <td>130</td>\n",
       "      <td>1</td>\n",
       "      <td>NaN</td>\n",
       "      <td>37.3023</td>\n",
       "      <td>-80.6053</td>\n",
       "      <td>NaN</td>\n",
       "      <td>0.0</td>\n",
       "      <td>0.0</td>\n",
       "      <td>0</td>\n",
       "      <td>25.459590</td>\n",
       "    </tr>\n",
       "    <tr>\n",
       "      <th>9997</th>\n",
       "      <td>NaN</td>\n",
       "      <td>NaN</td>\n",
       "      <td>NaN</td>\n",
       "      <td>NaN</td>\n",
       "      <td>120</td>\n",
       "      <td>1</td>\n",
       "      <td>NaN</td>\n",
       "      <td>-14.5075</td>\n",
       "      <td>15.6808</td>\n",
       "      <td>NaN</td>\n",
       "      <td>0.0</td>\n",
       "      <td>0.0</td>\n",
       "      <td>0</td>\n",
       "      <td>41.630619</td>\n",
       "    </tr>\n",
       "    <tr>\n",
       "      <th>9998</th>\n",
       "      <td>NaN</td>\n",
       "      <td>NaN</td>\n",
       "      <td>NaN</td>\n",
       "      <td>NaN</td>\n",
       "      <td>120</td>\n",
       "      <td>1</td>\n",
       "      <td>NaN</td>\n",
       "      <td>-17.8418</td>\n",
       "      <td>39.9010</td>\n",
       "      <td>NaN</td>\n",
       "      <td>0.1</td>\n",
       "      <td>0.0</td>\n",
       "      <td>0</td>\n",
       "      <td>353.367975</td>\n",
       "    </tr>\n",
       "  </tbody>\n",
       "</table>\n",
       "<p>9999 rows × 14 columns</p>\n",
       "</div>"
      ],
      "text/plain": [
       "      Unnamed: 0  Unnamed: 0.1  Unnamed: 0.1.1  EVENT_ID   osm  forest  \\\n",
       "0            0.0           0.0             0.0  200363.0  1634       0   \n",
       "1            1.0           1.0             1.0  200364.0   629       0   \n",
       "2            2.0           2.0             2.0  200366.0    45       0   \n",
       "3            3.0           3.0             3.0  200369.0    13       0   \n",
       "4            4.0           4.0             4.0  200370.0    13       0   \n",
       "...          ...           ...             ...       ...   ...     ...   \n",
       "9994         NaN           NaN             NaN       NaN   130       0   \n",
       "9995         NaN           NaN             NaN       NaN   130       1   \n",
       "9996         NaN           NaN             NaN       NaN   130       1   \n",
       "9997         NaN           NaN             NaN       NaN   120       1   \n",
       "9998         NaN           NaN             NaN       NaN   120       1   \n",
       "\n",
       "      forest_year  BEGIN_LAT  BEGIN_LON  BEGIN_DATE  precip2  precip1  LABEL  \\\n",
       "0             8.0    34.0000   -81.0200  12/2009/25      1.1     42.3      1   \n",
       "1             8.0    34.0800   -81.1800  12/2009/25      1.1     39.3      1   \n",
       "2             8.0    34.0950   -80.9706  12/2009/25      1.1     42.3      1   \n",
       "3             8.0    34.7200   -80.7700  12/2009/25      0.5     23.3      1   \n",
       "4             8.0    34.7200   -80.7700  12/2009/25      0.5     23.3      1   \n",
       "...           ...        ...        ...         ...      ...      ...    ...   \n",
       "9994          NaN    52.7525  -174.4397         NaN      0.2      0.0      0   \n",
       "9995          NaN     7.4903    36.5478         NaN      1.3      0.1      0   \n",
       "9996          NaN    37.3023   -80.6053         NaN      0.0      0.0      0   \n",
       "9997          NaN   -14.5075    15.6808         NaN      0.0      0.0      0   \n",
       "9998          NaN   -17.8418    39.9010         NaN      0.1      0.0      0   \n",
       "\n",
       "             DAMS  \n",
       "0       19.272862  \n",
       "1        4.803233  \n",
       "2       23.426476  \n",
       "3       17.060388  \n",
       "4       17.060388  \n",
       "...           ...  \n",
       "9994  1456.203340  \n",
       "9995   229.759830  \n",
       "9996    25.459590  \n",
       "9997    41.630619  \n",
       "9998   353.367975  \n",
       "\n",
       "[9999 rows x 14 columns]"
      ]
     },
     "execution_count": 25,
     "metadata": {},
     "output_type": "execute_result"
    }
   ],
   "source": [
    "df"
   ]
  },
  {
   "cell_type": "code",
   "execution_count": 26,
   "metadata": {},
   "outputs": [
    {
     "data": {
      "text/plain": [
       "9999"
      ]
     },
     "execution_count": 26,
     "metadata": {},
     "output_type": "execute_result"
    }
   ],
   "source": [
    "len(df)"
   ]
  },
  {
   "cell_type": "code",
   "execution_count": 27,
   "metadata": {},
   "outputs": [
    {
     "data": {
      "text/plain": [
       "9999"
      ]
     },
     "execution_count": 27,
     "metadata": {},
     "output_type": "execute_result"
    }
   ],
   "source": [
    "df = df[df.osm != -1]\n",
    "len(df)"
   ]
  },
  {
   "cell_type": "code",
   "execution_count": 28,
   "metadata": {},
   "outputs": [
    {
     "data": {
      "text/plain": [
       "9959"
      ]
     },
     "execution_count": 28,
     "metadata": {},
     "output_type": "execute_result"
    }
   ],
   "source": [
    "df = df[df.forest != -1]\n",
    "len(df)"
   ]
  },
  {
   "cell_type": "code",
   "execution_count": 29,
   "metadata": {},
   "outputs": [
    {
     "data": {
      "text/plain": [
       "9959"
      ]
     },
     "execution_count": 29,
     "metadata": {},
     "output_type": "execute_result"
    }
   ],
   "source": [
    "df = df[df.precip2 != -1]\n",
    "len(df)"
   ]
  },
  {
   "cell_type": "code",
   "execution_count": 30,
   "metadata": {},
   "outputs": [],
   "source": [
    "from sklearn.utils import shuffle\n",
    "df = shuffle(df)\n",
    "df.reset_index(inplace=True, drop=True)"
   ]
  },
  {
   "cell_type": "code",
   "execution_count": 31,
   "metadata": {},
   "outputs": [
    {
     "data": {
      "text/html": [
       "<div>\n",
       "<style scoped>\n",
       "    .dataframe tbody tr th:only-of-type {\n",
       "        vertical-align: middle;\n",
       "    }\n",
       "\n",
       "    .dataframe tbody tr th {\n",
       "        vertical-align: top;\n",
       "    }\n",
       "\n",
       "    .dataframe thead th {\n",
       "        text-align: right;\n",
       "    }\n",
       "</style>\n",
       "<table border=\"1\" class=\"dataframe\">\n",
       "  <thead>\n",
       "    <tr style=\"text-align: right;\">\n",
       "      <th></th>\n",
       "      <th>precip2</th>\n",
       "      <th>precip1</th>\n",
       "      <th>forest</th>\n",
       "      <th>osm</th>\n",
       "      <th>DAMS</th>\n",
       "    </tr>\n",
       "  </thead>\n",
       "  <tbody>\n",
       "    <tr>\n",
       "      <th>0</th>\n",
       "      <td>0.0</td>\n",
       "      <td>0.0</td>\n",
       "      <td>0</td>\n",
       "      <td>211</td>\n",
       "      <td>484.102443</td>\n",
       "    </tr>\n",
       "    <tr>\n",
       "      <th>1</th>\n",
       "      <td>0.1</td>\n",
       "      <td>62.7</td>\n",
       "      <td>0</td>\n",
       "      <td>1207</td>\n",
       "      <td>25.810170</td>\n",
       "    </tr>\n",
       "    <tr>\n",
       "      <th>2</th>\n",
       "      <td>0.0</td>\n",
       "      <td>0.0</td>\n",
       "      <td>0</td>\n",
       "      <td>3279</td>\n",
       "      <td>40.864565</td>\n",
       "    </tr>\n",
       "    <tr>\n",
       "      <th>3</th>\n",
       "      <td>19.9</td>\n",
       "      <td>66.9</td>\n",
       "      <td>0</td>\n",
       "      <td>1</td>\n",
       "      <td>21.226200</td>\n",
       "    </tr>\n",
       "    <tr>\n",
       "      <th>4</th>\n",
       "      <td>0.6</td>\n",
       "      <td>0.7</td>\n",
       "      <td>1</td>\n",
       "      <td>290</td>\n",
       "      <td>51.556943</td>\n",
       "    </tr>\n",
       "    <tr>\n",
       "      <th>...</th>\n",
       "      <td>...</td>\n",
       "      <td>...</td>\n",
       "      <td>...</td>\n",
       "      <td>...</td>\n",
       "      <td>...</td>\n",
       "    </tr>\n",
       "    <tr>\n",
       "      <th>9954</th>\n",
       "      <td>4.1</td>\n",
       "      <td>2.7</td>\n",
       "      <td>0</td>\n",
       "      <td>6</td>\n",
       "      <td>24.715474</td>\n",
       "    </tr>\n",
       "    <tr>\n",
       "      <th>9955</th>\n",
       "      <td>0.0</td>\n",
       "      <td>0.1</td>\n",
       "      <td>0</td>\n",
       "      <td>4138</td>\n",
       "      <td>98.181716</td>\n",
       "    </tr>\n",
       "    <tr>\n",
       "      <th>9956</th>\n",
       "      <td>0.1</td>\n",
       "      <td>1.1</td>\n",
       "      <td>0</td>\n",
       "      <td>993</td>\n",
       "      <td>128.884839</td>\n",
       "    </tr>\n",
       "    <tr>\n",
       "      <th>9957</th>\n",
       "      <td>0.0</td>\n",
       "      <td>0.0</td>\n",
       "      <td>1</td>\n",
       "      <td>302</td>\n",
       "      <td>313.817765</td>\n",
       "    </tr>\n",
       "    <tr>\n",
       "      <th>9958</th>\n",
       "      <td>0.3</td>\n",
       "      <td>0.0</td>\n",
       "      <td>0</td>\n",
       "      <td>23</td>\n",
       "      <td>69.306601</td>\n",
       "    </tr>\n",
       "  </tbody>\n",
       "</table>\n",
       "<p>9959 rows × 5 columns</p>\n",
       "</div>"
      ],
      "text/plain": [
       "      precip2  precip1  forest   osm        DAMS\n",
       "0         0.0      0.0       0   211  484.102443\n",
       "1         0.1     62.7       0  1207   25.810170\n",
       "2         0.0      0.0       0  3279   40.864565\n",
       "3        19.9     66.9       0     1   21.226200\n",
       "4         0.6      0.7       1   290   51.556943\n",
       "...       ...      ...     ...   ...         ...\n",
       "9954      4.1      2.7       0     6   24.715474\n",
       "9955      0.0      0.1       0  4138   98.181716\n",
       "9956      0.1      1.1       0   993  128.884839\n",
       "9957      0.0      0.0       1   302  313.817765\n",
       "9958      0.3      0.0       0    23   69.306601\n",
       "\n",
       "[9959 rows x 5 columns]"
      ]
     },
     "execution_count": 31,
     "metadata": {},
     "output_type": "execute_result"
    }
   ],
   "source": [
    "X = df.copy()\n",
    "y = X.LABEL\n",
    "columns=[\"precip2\", \"precip1\"]\n",
    "columns.append('forest')\n",
    "columns.append('osm')\n",
    "columns.append('DAMS')\n",
    "X = X[columns]\n",
    "X"
   ]
  },
  {
   "cell_type": "code",
   "execution_count": 32,
   "metadata": {},
   "outputs": [],
   "source": [
    "from sklearn.model_selection import train_test_split\n",
    "from sklearn.preprocessing import StandardScaler\n",
    "X_train, X_test, y_train, y_test = train_test_split(X, y, test_size = 0.2)\n",
    "\n",
    "X_train\n",
    "scaler = StandardScaler()\n",
    "scaler.fit(X_train)\n",
    "\n",
    "X_train = scaler.transform(X_train)\n",
    "X_test = scaler.transform(X_test)"
   ]
  },
  {
   "cell_type": "code",
   "execution_count": 33,
   "metadata": {},
   "outputs": [
    {
     "data": {
      "text/plain": [
       "RandomForestClassifier()"
      ]
     },
     "execution_count": 33,
     "metadata": {},
     "output_type": "execute_result"
    }
   ],
   "source": [
    "from sklearn.ensemble import RandomForestClassifier\n",
    "from sklearn.metrics import accuracy_score\n",
    "model = RandomForestClassifier()\n",
    "model.fit(X_train, y_train)"
   ]
  },
  {
   "cell_type": "code",
   "execution_count": 35,
   "metadata": {},
   "outputs": [
    {
     "name": "stdout",
     "output_type": "stream",
     "text": [
      "ACCURACY: 0.9723895582329317\n"
     ]
    }
   ],
   "source": [
    "pred = model.predict(X_test)\n",
    "print(\"ACCURACY:\", accuracy_score(pred, y_test))"
   ]
  },
  {
   "cell_type": "code",
   "execution_count": 39,
   "metadata": {},
   "outputs": [
    {
     "name": "stdout",
     "output_type": "stream",
     "text": [
      "0.9723895582329317\n"
     ]
    },
    {
     "data": {
      "text/plain": [
       "array([[0.97011952, 0.02988048],\n",
       "       [0.02530364, 0.97469636]])"
      ]
     },
     "execution_count": 39,
     "metadata": {},
     "output_type": "execute_result"
    }
   ],
   "source": [
    "rf = RandomForestClassifier(n_estimators = 91)\n",
    "rf.fit(X_train, y_train)\n",
    "pred = rf.predict(X_test)\n",
    "print(accuracy_score(pred, y_test))\n",
    "from sklearn.metrics import confusion_matrix\n",
    "array = confusion_matrix(y_test, pred, normalize='true')\n",
    "array"
   ]
  },
  {
   "cell_type": "code",
   "execution_count": 40,
   "metadata": {},
   "outputs": [
    {
     "data": {
      "image/png": "[encoded data removed]",
      "text/plain": [
       "<Figure size 720x504 with 2 Axes>"
      ]
     },
     "metadata": {
      "needs_background": "light"
     },
     "output_type": "display_data"
    }
   ],
   "source": [
    "import seaborn as sn\n",
    "import pandas as pd\n",
    "import matplotlib.pyplot as plt\n",
    "binary=True\n",
    "\n",
    "df_cm = pd.DataFrame(array, index = [i for i in [\"No\", \"Yes\"]],\n",
    "                columns = [i for i in [\"No\", \"Yes\"]])\n",
    "\n",
    "plt.figure(figsize = (10,7))\n",
    "\n",
    "ax = sn.heatmap(df_cm, cmap=\"Greens\", annot=True, annot_kws={\"size\":50}, fmt='g')\n",
    "ax.tick_params(axis='both', which='major', labelsize=27)\n",
    "plt.xlabel('Predicted', fontsize = 40) \n",
    "plt.ylabel('Actual', fontsize = 40) \n",
    "plt.savefig(\"RF Matrix\", bbox_inches=\"tight\")\n",
    "\n",
    "plt.show()"
   ]
  },
  {
   "cell_type": "code",
   "execution_count": null,
   "metadata": {},
   "outputs": [],
   "source": [
    "import pickle\n",
    "pickle.dump(rf, open('model.sav', 'wb'))"
   ]
  }
 ],
 "metadata": {
  "kernelspec": {
   "display_name": "Python 3",
   "language": "python",
   "name": "python3"
  },
  "language_info": {
   "codemirror_mode": {
    "name": "ipython",
    "version": 3
   },
   "file_extension": ".py",
   "mimetype": "text/x-python",
   "name": "python",
   "nbconvert_exporter": "python",
   "pygments_lexer": "ipython3",
   "version": "3.7.4"
  }
 },
 "nbformat": 4,
 "nbformat_minor": 4
}
